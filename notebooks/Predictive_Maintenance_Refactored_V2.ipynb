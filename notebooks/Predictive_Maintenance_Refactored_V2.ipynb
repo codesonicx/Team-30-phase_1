{
 "cells": [
  {
   "cell_type": "markdown",
   "metadata": {},
   "source": [
    "**MASTER'S DEGREE IN APPLIED ARTIFICIAL INTELLIGENCE**.\n",
    "\n",
    "**Course: TC5044.10 - Machine learning operations**\n",
    "\n",
    "Tecnológico de Monterrey\n",
    "\n",
    "Professor \t\n",
    "Dr. Gerardo Rodríguez Hernández\n",
    "\n",
    "**Week 5**\n",
    "Phase 1 | Project Progress\n",
    "\n",
    "---\n",
    "**Team 30**\n",
    "*   Jorge Antonio Acosta Rosales - A01381552\n",
    "*   Antonio Olvera Donlucas - A01795617\n",
    "*   Fernando Jaime Sanchez - A01795383\n",
    "*   Jorge Mariles Estrada - A01335663\n",
    "*   Jose Luis Artigas Arroyo - A01794906"
   ]
  },
  {
   "cell_type": "markdown",
   "metadata": {
    "vscode": {
     "languageId": "plaintext"
    }
   },
   "source": [
    "# Setup"
   ]
  },
  {
   "cell_type": "code",
   "execution_count": 1,
   "metadata": {},
   "outputs": [],
   "source": [
    "import pandas as pd\n",
    "import numpy as np\n",
    "import matplotlib.pyplot as plt\n",
    "import seaborn as sns\n",
    "from sklearn.compose import ColumnTransformer\n",
    "from sklearn.preprocessing import StandardScaler\n",
    "from sklearn.preprocessing import OneHotEncoder\n",
    "from sklearn.model_selection import train_test_split\n",
    "from sklearn.linear_model import LogisticRegression\n",
    "from sklearn.metrics import confusion_matrix, classification_report\n",
    "from sklearn.metrics import classification_report\n",
    "from sklearn.model_selection import cross_val_score\n",
    "from sklearn.pipeline import Pipeline\n",
    "from sklearn.metrics import ConfusionMatrixDisplay"
   ]
  },
  {
   "cell_type": "markdown",
   "metadata": {},
   "source": [
    "# Creating the classes"
   ]
  },
  {
   "cell_type": "code",
   "execution_count": 2,
   "metadata": {},
   "outputs": [],
   "source": [
    "class DataExplorer:\n",
    "    @staticmethod\n",
    "    def explore_data(data):\n",
    "        print(data.head().T)\n",
    "        print(data.describe())\n",
    "        print(data.info())\n",
    "    \n",
    "    @staticmethod\n",
    "    def plot_histograms(data):\n",
    "        data.hist(bins=15, figsize=(15, 10))\n",
    "        plt.show()\n",
    "\n",
    "    @staticmethod\n",
    "    def plot_correlation_matrix(data):\n",
    "        plt.figure(figsize=(12, 8))\n",
    "        sns.heatmap(data.corr(), annot=True, fmt=\".2f\", cmap='coolwarm')\n",
    "        plt.show()"
   ]
  },
  {
   "cell_type": "markdown",
   "metadata": {},
   "source": [
    "### Machine Failure Model"
   ]
  },
  {
   "cell_type": "code",
   "execution_count": 3,
   "metadata": {},
   "outputs": [],
   "source": [
    "class PredictiveMaintenanceModel:\n",
    "    def __init__(self, filepath):\n",
    "        self.filepath = filepath\n",
    "        self.model_pipeline = None\n",
    "        self.X_train, self.X_test, self.y_train, self.y_test = [None] * 4\n",
    "\n",
    "        # Define the target variable\n",
    "        self.TARGET = \"Machine failure\"\n",
    "\n",
    "        # Define numerical and categorical columns\n",
    "        self.numerical_columns = ['Air temperature [K]', 'Process temperature [K]', \n",
    "                                  'Rotational speed [rpm]', 'Torque [Nm]', 'Tool wear [min]']\n",
    "        self.categorical_columns = ['Type', 'TWF', 'HDF', 'PWF', 'OSF', 'RNF']\n",
    "\n",
    "        # Define the preprocessing pipeline\n",
    "        self.preprocessor = ColumnTransformer([\n",
    "            ('minmax_scaler', StandardScaler(), self.numerical_columns),\n",
    "            ('onehot', OneHotEncoder(drop='first'), self.categorical_columns)\n",
    "        ], remainder='drop')  # Dropping unspecified columns like 'Product ID' and 'UDI'\n",
    "\n",
    "        # Define the full pipeline\n",
    "        self.model_pipeline = Pipeline([\n",
    "            ('preprocessing', self.preprocessor),\n",
    "            ('classifier', LogisticRegression(max_iter=1000))\n",
    "        ])\n",
    "\n",
    "    def load_data(self):\n",
    "        self.data = pd.read_csv(self.filepath)\n",
    "        DataExplorer.explore_data(self.data)\n",
    "        return self\n",
    "    \n",
    "    def preprocess_data(self):\n",
    "        # Drop columns that are not needed\n",
    "        self.interim = self.data.drop(['Product ID', 'UDI'], axis=1)\n",
    "        \n",
    "        # Define features and target\n",
    "        X = self.interim.drop(self.TARGET, axis=1)\n",
    "        y = self.interim[self.TARGET]\n",
    "        \n",
    "        # Split the data\n",
    "        self.X_train, self.X_test, self.y_train, self.y_test = train_test_split(\n",
    "            X, y, test_size=0.2, random_state=42\n",
    "        )\n",
    "        return self\n",
    "    \n",
    "    def train_model(self):\n",
    "        self.model_pipeline.fit(self.X_train, self.y_train)\n",
    "        return self\n",
    "    \n",
    "    def evaluate_model(self):\n",
    "        print(\"Model Evaluation:\")\n",
    "        y_pred = self.model_pipeline.predict(self.X_test)\n",
    "        \n",
    "        # Confusion Matrix\n",
    "        cm = confusion_matrix(self.y_test, y_pred)\n",
    "        disp = ConfusionMatrixDisplay(confusion_matrix=cm, display_labels=np.unique(self.y_test))\n",
    "        disp.plot(cmap='Blues')\n",
    "        plt.show()\n",
    "        \n",
    "        # Classification Report\n",
    "        report = classification_report(self.y_test, y_pred)\n",
    "        print(\"Classification Report:\")\n",
    "        print(report)\n",
    "        return self\n",
    "    \n",
    "    def cross_validate_model(self):\n",
    "        scores = cross_val_score(self.model_pipeline, self.X_train, self.y_train, cv=5)\n",
    "        print(\"Cross-Validation Accuracy Scores:\", scores)\n",
    "        print(\"Average Accuracy with CV:\", np.mean(scores))\n",
    "        return self\n"
   ]
  },
  {
   "cell_type": "markdown",
   "metadata": {},
   "source": [
    "# Executing the code"
   ]
  },
  {
   "cell_type": "code",
   "execution_count": 4,
   "metadata": {},
   "outputs": [
    {
     "name": "stdout",
     "output_type": "stream",
     "text": [
      "                              0       1       2       3       4\n",
      "UDI                           1       2       3       4       5\n",
      "Product ID               M14860  L47181  L47182  L47183  L47184\n",
      "Type                          M       L       L       L       L\n",
      "Air temperature [K]       298.1   298.2   298.1   298.2   298.2\n",
      "Process temperature [K]   308.6   308.7   308.5   308.6   308.7\n",
      "Rotational speed [rpm]     1551    1408    1498    1433    1408\n",
      "Torque [Nm]                42.8    46.3    49.4    39.5    40.0\n",
      "Tool wear [min]               0       3       5       7       9\n",
      "Machine failure               0       0       0       0       0\n",
      "TWF                           0       0       0       0       0\n",
      "HDF                           0       0       0       0       0\n",
      "PWF                           0       0       0       0       0\n",
      "OSF                           0       0       0       0       0\n",
      "RNF                           0       0       0       0       0\n",
      "               UDI  Air temperature [K]  Process temperature [K]  \\\n",
      "count  10000.00000         10000.000000             10000.000000   \n",
      "mean    5000.50000           300.004930               310.005560   \n",
      "std     2886.89568             2.000259                 1.483734   \n",
      "min        1.00000           295.300000               305.700000   \n",
      "25%     2500.75000           298.300000               308.800000   \n",
      "50%     5000.50000           300.100000               310.100000   \n",
      "75%     7500.25000           301.500000               311.100000   \n",
      "max    10000.00000           304.500000               313.800000   \n",
      "\n",
      "       Rotational speed [rpm]   Torque [Nm]  Tool wear [min]  Machine failure  \\\n",
      "count            10000.000000  10000.000000     10000.000000     10000.000000   \n",
      "mean              1538.776100     39.986910       107.951000         0.033900   \n",
      "std                179.284096      9.968934        63.654147         0.180981   \n",
      "min               1168.000000      3.800000         0.000000         0.000000   \n",
      "25%               1423.000000     33.200000        53.000000         0.000000   \n",
      "50%               1503.000000     40.100000       108.000000         0.000000   \n",
      "75%               1612.000000     46.800000       162.000000         0.000000   \n",
      "max               2886.000000     76.600000       253.000000         1.000000   \n",
      "\n",
      "                TWF           HDF           PWF           OSF          RNF  \n",
      "count  10000.000000  10000.000000  10000.000000  10000.000000  10000.00000  \n",
      "mean       0.004600      0.011500      0.009500      0.009800      0.00190  \n",
      "std        0.067671      0.106625      0.097009      0.098514      0.04355  \n",
      "min        0.000000      0.000000      0.000000      0.000000      0.00000  \n",
      "25%        0.000000      0.000000      0.000000      0.000000      0.00000  \n",
      "50%        0.000000      0.000000      0.000000      0.000000      0.00000  \n",
      "75%        0.000000      0.000000      0.000000      0.000000      0.00000  \n",
      "max        1.000000      1.000000      1.000000      1.000000      1.00000  \n",
      "<class 'pandas.core.frame.DataFrame'>\n",
      "RangeIndex: 10000 entries, 0 to 9999\n",
      "Data columns (total 14 columns):\n",
      " #   Column                   Non-Null Count  Dtype  \n",
      "---  ------                   --------------  -----  \n",
      " 0   UDI                      10000 non-null  int64  \n",
      " 1   Product ID               10000 non-null  object \n",
      " 2   Type                     10000 non-null  object \n",
      " 3   Air temperature [K]      10000 non-null  float64\n",
      " 4   Process temperature [K]  10000 non-null  float64\n",
      " 5   Rotational speed [rpm]   10000 non-null  int64  \n",
      " 6   Torque [Nm]              10000 non-null  float64\n",
      " 7   Tool wear [min]          10000 non-null  int64  \n",
      " 8   Machine failure          10000 non-null  int64  \n",
      " 9   TWF                      10000 non-null  int64  \n",
      " 10  HDF                      10000 non-null  int64  \n",
      " 11  PWF                      10000 non-null  int64  \n",
      " 12  OSF                      10000 non-null  int64  \n",
      " 13  RNF                      10000 non-null  int64  \n",
      "dtypes: float64(3), int64(9), object(2)\n",
      "memory usage: 1.1+ MB\n",
      "None\n",
      "Model Evaluation:\n"
     ]
    },
    {
     "data": {
      "image/png": "[encoded data removed]",
      "text/plain": [
       "<Figure size 640x480 with 2 Axes>"
      ]
     },
     "metadata": {},
     "output_type": "display_data"
    },
    {
     "name": "stdout",
     "output_type": "stream",
     "text": [
      "Classification Report:\n",
      "              precision    recall  f1-score   support\n",
      "\n",
      "           0       1.00      1.00      1.00      1939\n",
      "           1       1.00      0.97      0.98        61\n",
      "\n",
      "    accuracy                           1.00      2000\n",
      "   macro avg       1.00      0.98      0.99      2000\n",
      "weighted avg       1.00      1.00      1.00      2000\n",
      "\n",
      "Cross-Validation Accuracy Scores: [0.999375 1.       0.998125 0.998125 0.998125]\n",
      "Average Accuracy with CV: 0.99875\n"
     ]
    },
    {
     "data": {
      "text/plain": [
       "<__main__.PredictiveMaintenanceModel at 0x2171dba2ad0>"
      ]
     },
     "execution_count": 4,
     "metadata": {},
     "output_type": "execute_result"
    }
   ],
   "source": [
    "filepath = r'D:\\Dev\\Python Projects\\MLOps\\phase_1.0\\data\\raw\\ai4i2020.csv'\n",
    "model = PredictiveMaintenanceModel(filepath)\n",
    "model.load_data()\n",
    "model.preprocess_data()\n",
    "model.train_model()\n",
    "model.evaluate_model()\n",
    "model.cross_validate_model()"
   ]
  }
 ],
 "metadata": {
  "kernelspec": {
   "display_name": "phase_1_kernel",
   "language": "python",
   "name": "phase_1_kernel"
  },
  "language_info": {
   "codemirror_mode": {
    "name": "ipython",
    "version": 3
   },
   "file_extension": ".py",
   "mimetype": "text/x-python",
   "name": "python",
   "nbconvert_exporter": "python",
   "pygments_lexer": "ipython3",
   "version": "3.11.9"
  }
 },
 "nbformat": 4,
 "nbformat_minor": 2
}
